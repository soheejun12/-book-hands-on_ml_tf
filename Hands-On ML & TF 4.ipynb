{
 "cells": [
  {
   "cell_type": "markdown",
   "metadata": {},
   "source": [
    "# Chapter 4. Training Models\n",
    "\n",
    "#### - 기계학습 모델과 학습 알고리즘의 작동원리 대해 알아보는 내용 \n",
    "#### -  원리를 알면 적절한 모델, 학습 알고리즘, 하이퍼파라미터를 잘 활용할 수 있음 \n",
    "\n",
    "\n",
    "###  1. 선형회귀모델에서 비용함수를 최소화하는 파라미터 찾기 \n",
    "#### - 폐쇄형 방정식\n",
    "#### - 경사하강법\n",
    "- 인공신경망에서 사용할 수 있는 경사하강법의 응용 \n",
    "\n",
    "### 2. 다항회귀모델 \n",
    "#### - 비선형 데이터에 적합하면서 복잡한 모델  \n",
    "#### - 오버피팅을 방지하는 방법들 (Regularized Linear Model)\n",
    "\n",
    "### 3. 분류에 사용되는 회귀모델 \n",
    "#### - Logistic 회귀 \n",
    "#### - Softmax 회귀 "
   ]
  },
  {
   "cell_type": "markdown",
   "metadata": {},
   "source": [
    "# 1. Linear Regression\n",
    "\n",
    "## * 선형회귀 수식 \n",
    "- 1장에서 살펴본 예제 \n",
    "     - GDP 수치에 따른 삶의 만족도 예측 회귀모델 \n",
    "     - 선형회귀모델 : Θ0 + Θ1 * GDP지수\n",
    "         - 입력 특징 : GDP지수 \n",
    "         - 모델 파라미터 : Θ0, Θ1 \n",
    "         \n",
    "#### - 일반적으로, 선형회귀모델은 입력 특징의 가중치의 합과 상수항(bias)를 더해 예측 \n",
    "\n",
    "<img src = 'image\\ch4\\lr1.png'>\n",
    "- y_hat : 예측값\n",
    "- n : 특징 개수 \n",
    "- xi : i번째 특징\n",
    "- Θj : j번째 파라미터 (상수항은 0번째)\n",
    "\n",
    "\n",
    "#### - 행렬을 이용해 표현\n",
    "<img src = 'image\\ch4\\lr2.png'>\n",
    "- hΘ(x) : x가 주어졌을때, Θ를 사용하는 가설\n",
    "- Θ : 모델의 파라미터 벡터 (상수항 Θ0을 포함한 특징 가중치들)\n",
    "- x : 데이터의 특징 벡터 (항상 1인 x0을 포함, xn까지 존재)\n",
    "\n",
    "## * 측정방법\n",
    "#### - 학습 전에 모델이 학습데이터에 얼마나 잘 적합하는지 측정할 방법 설정 \n",
    "#### - 회귀분석 모델에서 가장 일반적인 성능 척도는 평균제곱근편차(RMSE)\n",
    "#### - RMSE와 의미하는 바가 같은 MSE 사용 \n",
    "<img src = 'image\\ch4\\mse.png'>\n",
    "- m: 데이터의 개수 \n",
    "- x(i) : i번째 특징 \n",
    "- y(i) : i번째 라벨 \n",
    "#### - MSE가 최소화되는 Θ값을 찾는 것이 목적\n"
   ]
  },
  {
   "cell_type": "markdown",
   "metadata": {},
   "source": [
    "## 1) The Normal Equation\n",
    "#### - 폐쇄방정식을 사용해 비용함수를 최소화하는 Θ값 찾기 \n",
    "#### - 정규방정식 사용 \n",
    "<img src = 'image\\ch4\\normal.png'>\n",
    "- X : 특징 벡터 \n",
    "- Θ_hat : 비용함수를 최소화하는 세타값 \n",
    "- y : 타겟값(라벨값) 벡터"
   ]
  },
  {
   "cell_type": "code",
   "execution_count": 96,
   "metadata": {
    "collapsed": true
   },
   "outputs": [],
   "source": [
    "import numpy as np "
   ]
  },
  {
   "cell_type": "code",
   "execution_count": 97,
   "metadata": {
    "collapsed": true
   },
   "outputs": [],
   "source": [
    "#선형 데이터 만들기 \n",
    "X = 2 * np.random.rand(100, 1) #특징 \n",
    "y = 4 + 3 * X + np.random.randn(100, 1) #라벨값 #가우시안 표준 정규분포로 임의의 값을 설정 후 더함 (가우시안 노이즈)"
   ]
  },
  {
   "cell_type": "code",
   "execution_count": 98,
   "metadata": {
    "collapsed": true
   },
   "outputs": [],
   "source": [
    "import matplotlib.pyplot as plt"
   ]
  },
  {
   "cell_type": "code",
   "execution_count": 99,
   "metadata": {},
   "outputs": [
    {
     "data": {
      "image/png": "[encoded data removed]",
      "text/plain": [
       "<matplotlib.figure.Figure at 0x227707b5ba8>"
      ]
     },
     "metadata": {},
     "output_type": "display_data"
    }
   ],
   "source": [
    "plt.plot(X, y, 'b.') #b. : 파란색 . 으로 표현 \n",
    "plt.xlim(0.0, 2.0)\n",
    "plt.ylim(0, 15)\n",
    "plt.show()"
   ]
  },
  {
   "cell_type": "code",
   "execution_count": 102,
   "metadata": {},
   "outputs": [
    {
     "data": {
      "text/plain": [
       "array([[ 3.79053121],\n",
       "       [ 3.07208356]])"
      ]
     },
     "execution_count": 102,
     "metadata": {},
     "output_type": "execute_result"
    }
   ],
   "source": [
    "#비용함수가 최소화되는 최적의 Θ구하기 \n",
    "\n",
    "#0번째 특징은 무조건 1\n",
    "#X0 = 1 그 열을 추가해줌 \n",
    "X_b =  np.c_[np.ones((100, 1)), X] #numpy.c_ : 열 추가 \n",
    "\n",
    "\n",
    "#정규방정식 적용\n",
    "#numpy.linalg.inv() : 역행렬\n",
    "#.T : 전치 \n",
    "#dot() : 행렬곱 \n",
    "theta_best = np.linalg.inv(X_b.T.dot(X_b)).dot(X_b.T).dot(y)\n",
    "\n",
    "theta_best "
   ]
  },
  {
   "cell_type": "markdown",
   "metadata": {},
   "source": [
    " - 실제 데이터 생성 시 사용한 함수는 y = 4*3X0 + 가우시안 노이즈 \n",
    " - 즉 찾고싶었던 세타값은 4와 3\n",
    " - 비슷하긴 하지만 추가된 노이즈 때문에 원래 함수의 정확한 매개변수를 찾을 수 없음"
   ]
  },
  {
   "cell_type": "code",
   "execution_count": 103,
   "metadata": {},
   "outputs": [
    {
     "data": {
      "text/plain": [
       "array([[ 3.79053121],\n",
       "       [ 9.93469834]])"
      ]
     },
     "execution_count": 103,
     "metadata": {},
     "output_type": "execute_result"
    }
   ],
   "source": [
    "#구한 세타로 회귀모델 예측 작업\n",
    "\n",
    "#새로운 데이터 추가\n",
    "X_new = np.array([[0], [2]])\n",
    "X_new_b = np.c_[np.ones((2, 1)), X_new] #X0=1\n",
    "\n",
    "#구한 세타로 예측 \n",
    "y_predict = X_new_b.dot(theta_best)\n",
    "y_predict"
   ]
  },
  {
   "cell_type": "code",
   "execution_count": 104,
   "metadata": {},
   "outputs": [
    {
     "data": {
      "image/png": "[encoded data removed]",
      "text/plain": [
       "<matplotlib.figure.Figure at 0x227731fb278>"
      ]
     },
     "metadata": {},
     "output_type": "display_data"
    }
   ],
   "source": [
    "#회귀모델 플롯\n",
    "plt.plot(X_new, y_predict, \"r-\")\n",
    "plt.plot(X, y, 'b.')\n",
    "plt.axis([0, 2, 0, 15]) #x축 범위 : 0~2, y축 범위 : 0~15\n",
    "plt.show()"
   ]
  },
  {
   "cell_type": "markdown",
   "metadata": {},
   "source": [
    "#### - Scikit-learn의 LinearRegression 클래스 사용\n",
    "- 동일한 결과"
   ]
  },
  {
   "cell_type": "code",
   "execution_count": 149,
   "metadata": {},
   "outputs": [
    {
     "name": "stdout",
     "output_type": "stream",
     "text": [
      "-0.426060549357 [ 0.17912123  0.62803412]\n"
     ]
    }
   ],
   "source": [
    "from sklearn.linear_model import LinearRegression\n",
    "\n",
    "lin_reg = LinearRegression()\n",
    "lin_reg.fit(X, y)\n",
    "\n",
    "print(lin_reg.intercept_, lin_reg.coef_)\n",
    "#intercept_ : 상수항 \n",
    "#coef_ : 파라미터 값 "
   ]
  },
  {
   "cell_type": "code",
   "execution_count": 151,
   "metadata": {},
   "outputs": [
    {
     "data": {
      "text/plain": [
       "LinearRegression(copy_X=True, fit_intercept=True, n_jobs=1, normalize=False)"
      ]
     },
     "execution_count": 151,
     "metadata": {},
     "output_type": "execute_result"
    }
   ],
   "source": [
    "lin_reg "
   ]
  },
  {
   "cell_type": "code",
   "execution_count": 107,
   "metadata": {},
   "outputs": [
    {
     "name": "stdout",
     "output_type": "stream",
     "text": [
      "[[ 3.79053121]\n",
      " [ 9.93469834]]\n"
     ]
    }
   ],
   "source": [
    "print(lin_reg.predict(X_new))"
   ]
  },
  {
   "cell_type": "markdown",
   "metadata": {},
   "source": [
    "### - Computational Complexity \n",
    "#### - 정규방정식은 학습셋의 데이터 수에 선형적이기 때문에 아주 큰 학습 셋에 대해 효율적으로 다룰 수 있음 \n",
    "#### - 하지만, 특징의 개수가 많아지면 계산이 느려짐"
   ]
  },
  {
   "cell_type": "markdown",
   "metadata": {},
   "source": [
    "## 2) Gradient Descent\n",
    "#### - 광범위한 문제의 최적 해결책을 찾을 수 있는 일반적인 최적화 알고리즘 \n",
    "#### - 비용함수를 최소화하기 위해 파라미터를 반복적으로 조정함 \n",
    "\n",
    "### - 기본적인 과정 \n",
    "#### - 임의의 값 Θ 설정 (random initialization)\n",
    "#### - 한 걸음씩(steps) 경사가 가장 가파른 쪽으로 나아가며 점진적으로 개선\n",
    "#### - 각 단계에서 비용함수를 줄이는 작업 진행 \n",
    "#### - 최종적으로 비용함수가 최소값으로 수렴함 (경사는 0)\n",
    "<img src = \"image\\ch4\\gd1.png\">\n",
    "\n",
    "#### - 경사하강법에서 주요한 파라미터는 걸음의 크기 \n",
    "- 학습속도에 의해 결정됨 \n",
    "     - 학습속도가 너무 작으면, 최소값 수렴을 위해 매우 많은 반복이 수행됨 (오래걸림)\n",
    "     <img src = \"image\\ch4\\gd2.png\">\n",
    "     \n",
    "     - 학습속도가 너무 크면, 발산이 진행됨 (최적값에 도달하지 못하고 벗어남)   \n",
    "     <img src = \"image\\ch4\\gd3.png\">\n",
    "\n",
    "#### - 모든 비용함수가 그릇형태를 띄지 않음 \n",
    "<img src = 'image\\ch4\\gd4.png'>\n",
    "- 산등성이(ridge), 고원(plateau) 등 불규칙한 지형(irregular terrains)도 존재할 수 있음 \n",
    "- 불규칙한 지형은 최소값으로 수렴하는것에 방해가 됨 \n",
    "\n",
    "#### - 경사하강법의 문제점 \n",
    "- 임의의 값이 왼쪽에서 시작한다면, 전역 최소값이 아닌 지역 최솟값을 수렴할 수 있음\n",
    "- 임의의 값 설정이 오른쪽에서 시작한다면 고원을 지날 때까지 시간이 매우 오래걸림 \n",
    "    - 이 때, 너무 일찍 멈추면 최적값에 도달하지 못 함\n",
    "    \n",
    "#### - 하지만 \n",
    "- 선형회귀모델에 대한 MSE비용함수는 볼록(convex)함수 \n",
    "- 커브에서 임의의 두 점을 선택했을 때, 이 두점을 잇는 선은 커브랑 교차하지 않음 \n",
    "- 즉, 지역 최솟값은 없고 하나의 전역 최소값만 존재함을 의미 \n",
    "- 또한 갑자기 경사가 변하지 않는 연속함수 \n",
    "    #### - 경사하강법은 전역최소값에 임의로 접근하도록 보장함 \n",
    "    <img src = \"image\\ch4\\gd5.png\">\n",
    "    - 실제 비용함수는 그릇 형태를 가지지만 특징의 척도(scale)이 다른 경우 긴 그릇 형태가 될 수 있음 \n",
    "    - 왼쪽, 두 특징의 척도가 같음 \n",
    "    - 오른쪽, 특징2가 특징1보다 큰 값을 가짐 \n",
    "        - 왼쪽보다 오른쪽이 최솟값에 도달하는데 오래걸림 \n",
    "        #### - 경사하강법 사용시, feature scale은 중요함 \n",
    "        \n",
    "#### - 파라미터가 많을 수록 차원이 증가하고 탐색난이도가 높아짐 "
   ]
  },
  {
   "cell_type": "markdown",
   "metadata": {},
   "source": [
    "### 1> Batch Gradient Descent\n",
    "#### - 경사 하강을 구하려면, 각각의 모델 파라미터에 대한 비용함수를 계산해야 함 \n",
    "#### - 파라미터가 변경되었을때, 비용함수가 얼마나 달라지는가 계산 \n",
    "#### - 편미분 (partial derivative)\n",
    "    - 파라미터 Θj와 관련하여 비용함수의 편미분 계산\n",
    "<img src = \"image\\ch4\\bgd1.png\">\n",
    "    - 한번에 계산 (기울기 벡터 : 각 파라미터와 관련한 \n",
    "    비용함수의 모든 편미분을 포함)\n",
    "<img src = \"image\\ch4\\bgd2.png\">\n",
    "#### - 편미분은 각 경사 하강 단계에서 학습 셋(X)의 전체에 대한 계산이 필요함 (일괄적 경사하강법)\n",
    "    - 큰 학습 데이터에서는 속도가 느림 \n",
    "    - 특징들이 많을 때는 정규방정식을 사용하는 것 보다는 빠름 \n",
    "#### - 구한 기울기 벡터가 오르막을 가리킨다면, 반대 방향을 가리켜야함(내리막)\n",
    "    - Θ에서 기울기 벡터를 뺀 것\n",
    "    - 학습 속도기 작용함 (걸음의 크기 조정)\n",
    "<img src = \"image\\ch4\\bgd3.png\">"
   ]
  },
  {
   "cell_type": "code",
   "execution_count": 108,
   "metadata": {},
   "outputs": [
    {
     "name": "stdout",
     "output_type": "stream",
     "text": [
      "[[ 3.79053121]\n",
      " [ 3.07208356]]\n"
     ]
    }
   ],
   "source": [
    "eta = 0.1 #학습 속도 \n",
    "n_iterations = 1000 #반복횟수 \n",
    "m = 100 #데이터 개수 \n",
    "\n",
    "#임의의 값으로 초기값 설정 (random inirialization)\n",
    "theta = np.random.randn(2,1) \n",
    "\n",
    "for iteration in range(n_iterations):\n",
    "    gradients = 2/m * X_b.T.dot(X_b.dot(theta) - y) #편미분\n",
    "    theta = theta - eta * gradients #다음 스텝(조정된 파라미터)\n",
    "    \n",
    "print(theta) "
   ]
  },
  {
   "cell_type": "markdown",
   "metadata": {},
   "source": [
    " - 정규방정식에서 구한 값과 일치 "
   ]
  },
  {
   "cell_type": "markdown",
   "metadata": {},
   "source": [
    "#### - 학습속도를 변경한 경우 "
   ]
  },
  {
   "cell_type": "code",
   "execution_count": 109,
   "metadata": {},
   "outputs": [
    {
     "data": {
      "image/png": "[encoded data removed]",
      "text/plain": [
       "<matplotlib.figure.Figure at 0x22771956828>"
      ]
     },
     "metadata": {},
     "output_type": "display_data"
    }
   ],
   "source": [
    "def plot_gradient_descent(theta, eta, theta_path=None):\n",
    "    m = len(X_b) #데이터의 개수 \n",
    "    plt.plot(X, y, \"b.\")\n",
    "    n_iterations = 1000\n",
    "    for iteration in range(n_iterations):\n",
    "        if iteration < 10:\n",
    "            y_predict = X_new_b.dot(theta)\n",
    "            style = \"b-\" if iteration > 0 else \"r--\"\n",
    "            plt.plot(X_new, y_predict, style)\n",
    "        gradients = 2/m * X_b.T.dot(X_b.dot(theta) - y)\n",
    "        theta = theta - eta * gradients\n",
    "       \n",
    "   \n",
    "    plt.axis([0, 2, 0, 15])\n",
    "    plt.title(r\"$\\eta = {}$\".format(eta), fontsize=16)\n",
    "\n",
    "np.random.seed(42)\n",
    "theta = np.random.randn(2,1)  # random initialization\n",
    "\n",
    "plt.figure(figsize=(10,4))\n",
    "plt.subplot(131); plot_gradient_descent(theta, eta=0.02)\n",
    "plt.subplot(132); plot_gradient_descent(theta, eta=0.1)\n",
    "plt.subplot(133); plot_gradient_descent(theta, eta=0.5)\n",
    "\n",
    "plt.show()"
   ]
  },
  {
   "cell_type": "markdown",
   "metadata": {},
   "source": [
    " - 왼쪽, 너무 낮은 학습속도로 최적값에 도달하기까지 너무 오래 걸림 \n",
    " - 가운데, 짧은 반복 안에 최적값에 도달함 \n",
    " - 오른쪽, 학습속도가 너무 높아 벗어남 "
   ]
  },
  {
   "cell_type": "markdown",
   "metadata": {},
   "source": [
    "#### - 적절한 반복횟수를 지정해야 함 \n",
    "- 적은 반복횟수 : 반복이 끝날때까지 최적값에 도달하지 못할 수 있음 \n",
    "- 많은 반복횟수 : 더이상 값이 변하지 않는데 반복이 계속 진행되어 시간낭비 \n",
    "- 그러므로, 초기에 반복횟수를 크게 설정하고 기울기 벡터가 작아지면 interrupt를 주는 방법이 있음 \n",
    "\n",
    "#### ※ Convergence Rate\n",
    "- 비용함수가 볼록함수이고 경사가 더이상 크게 변하지 않으면 고정된 학습속도는 O(1/반복횟수)에 수렴할 수 있음 "
   ]
  },
  {
   "cell_type": "markdown",
   "metadata": {},
   "source": [
    "### 2> Stochastic Gradient Descent\n",
    "#### - Batch Gradient Descent는 모든 단계에서 기울기 계산을 위해 전체 학습 데이터를 사용해야 함 (느림)\n",
    "#### - 반면, SGD는 모든 단계에서 학습데이터에서 무작위로 데이터를 선택하고 그 데이터의 기울기만 계산 (빠름)\n",
    "#### - 각 반복마다 해당 데이터의 메모리에서만 작동 (대량 데이터 학습 가능)\n",
    "#### - 확률적으로 랜덤한 데이터를 추출하기 떄문에 규칙적이지 않음 \n",
    "    - 지역최소값에서 벗어날 수 있게 해 줌 \n",
    "    - 전역최소값을 찾기 더 수월함 \n",
    "#### - 비용함수가 최소값에 도달할때 까지 완만하지만 평균적으로 감소 \n",
    "<img src = \"image\\ch4\\sgd1.png\">\n",
    "    - 반복이 계속되면, 최소값에 매우 근접은 하지만 특정 지점에서 끝나지 않고 주변을 맴 돎\n",
    "    - 알고리즘이 중지되었을때, 최종 파라미터가 최적의 값이 아닐 수 있음 \n",
    "    \n",
    "\n",
    "#### - 학습 스케줄 \n",
    "    - 학습 스케줄 : 각 반복에서 학습 속도를 결정하는 함수 \n",
    "    - 최적의 값을 찾지 못하는 문제를 해결하기 위해 점진적으로 학습 속도를 낮춤 \n",
    "    - 처음에는 큰 학습속도로 시작 (초기의 빠른 진행, 지역최소값 벗어나기)\n",
    "    - 점차적으로 학습속도를 낮춤 (전역최소값에 정착)    "
   ]
  },
  {
   "cell_type": "code",
   "execution_count": 111,
   "metadata": {},
   "outputs": [
    {
     "name": "stdout",
     "output_type": "stream",
     "text": [
      "[[ 3.82837399]\n",
      " [ 3.04909861]]\n"
     ]
    }
   ],
   "source": [
    "n_epochs = 50\n",
    "t0, t1 = 5, 50  # 학습스케줄 매개변수\n",
    "\n",
    "#학습 스케줄 함수 \n",
    "def learning_schedule(t):\n",
    "    return t0 / (t + t1)\n",
    "\n",
    "theta = np.random.randn(2,1)  # 초기값으로 임의의 값\n",
    "\n",
    "for epoch in range(n_epochs):\n",
    "    for i in range(m): #m=100\n",
    "        #임의의 데이터 선택\n",
    "        random_index = np.random.randint(m)\n",
    "        xi = X_b[random_index:random_index+1]\n",
    "        yi = y[random_index:random_index+1]\n",
    "        \n",
    "        #선택된 임의의 데이터의 기울기 구하기 \n",
    "        gradients = 2 * xi.T.dot(xi.dot(theta) - yi)\n",
    "        \n",
    "        #학습스케줄 설정\n",
    "        eta = learning_schedule(epoch * m + i)\n",
    "        \n",
    "        #내리막을 가리키도록\n",
    "        theta = theta - eta * gradients\n",
    "        \n",
    "print(theta)"
   ]
  },
  {
   "cell_type": "markdown",
   "metadata": {},
   "source": [
    "#### - SGD의 초기 10단계\n",
    "<img src = 'image\\ch4\\sgd2.png'>\n",
    "#### - 데이터를 랜덤하게 선택하기 떄문에 여러번 선택되는 데이터, 한번도 선택되지 않는 데이터 존재 가능 \n",
    "   - 주기마다 모든 데이터가 선택될 수 하기 위해서는 매 주기마다 학습 데이터를 섞음\n",
    "        - 느려질 수 있음 "
   ]
  },
  {
   "cell_type": "markdown",
   "metadata": {},
   "source": [
    "#### - Scikit-learn의 SGDRegressor 클래스 사용 \n",
    "- 기본값으로 제곱오차 비용함수 최적화 "
   ]
  },
  {
   "cell_type": "code",
   "execution_count": 112,
   "metadata": {},
   "outputs": [
    {
     "name": "stderr",
     "output_type": "stream",
     "text": [
      "C:\\Users\\jsh\\Anaconda3\\lib\\site-packages\\sklearn\\linear_model\\stochastic_gradient.py:117: DeprecationWarning: n_iter parameter is deprecated in 0.19 and will be removed in 0.21. Use max_iter and tol instead.\n",
      "  DeprecationWarning)\n"
     ]
    },
    {
     "data": {
      "text/plain": [
       "(array([ 3.8339672]), array([ 3.14244598]))"
      ]
     },
     "execution_count": 112,
     "metadata": {},
     "output_type": "execute_result"
    }
   ],
   "source": [
    "from sklearn.linear_model import SGDRegressor\n",
    "\n",
    "#penealty = None : 정규화를 하지 않음 \n",
    "sgd_reg = SGDRegressor(n_iter=50, penalty=None, eta=0.1, random_state=42)\n",
    "sgd_reg.fit(X, y.ravel()) #y.ravel() : y값\n",
    "\n",
    "#intercept_ : 상수항, coef_ : 파라미터 값 \n",
    "sgd_reg.intercept_, sgd_reg.coef_"
   ]
  },
  {
   "cell_type": "markdown",
   "metadata": {},
   "source": [
    " - 정규방정식값과 비슷한 결과가 나옴 (약간 더 나음)"
   ]
  },
  {
   "cell_type": "markdown",
   "metadata": {},
   "source": [
    "### 3> Mini-batch Gradient Descent\n",
    "#### - BGD와 SGD를 합친 것 \n",
    "#### - 임의로 구성된 데이터의 작은 셋의 기울기를 계산 \n",
    "#### - 특히 GPU를 사용할 때 행렬 작업의 하드웨어적 최적화로 인해 더 좋은 성능을 얻을 수 있음\n",
    "#### - SGD보다 덜 뷸규칙적 \n",
    "- 최종적으로 최소값에 더 가까운 값을 얻을 수 있음 \n",
    "- 지역 최소값에서 벗어나느 것은 더 어려울 수 있음\n",
    "- SGD와 마찬가지로 학습스케줄을 통해 해결 가능 \n",
    "\n",
    "### 세가지 경사하강법 비교 \n",
    "<img src = \"image\\ch4\\gda.png\">\n",
    "<img src = \"image\\ch4\\gda2.png\">\n",
    "    \n",
    "    - m : 학습데이터의 수 \n",
    "    - n : 특징의 수 \n",
    "- 학습 이후에는 별 차이가 없음 \n",
    "- 세 알고리즘 모두 최종적으로는 거의 같은 모델로 죵료되며, 거의 동일한 예측을 함"
   ]
  },
  {
   "cell_type": "markdown",
   "metadata": {
    "collapsed": true
   },
   "source": [
    "# 2. Polynomial Regression\n",
    "## 1) 비선형 데이터에 선형모델 적용하기 \n",
    "### 각 특징에 힘을 더해 새로운 특징을 만들어 그 특징을 학습 \n",
    "#### - 예\n",
    "- 이차방정식으로 데이터 생성(노이즈 추가)"
   ]
  },
  {
   "cell_type": "code",
   "execution_count": 115,
   "metadata": {},
   "outputs": [
    {
     "data": {
      "image/png": "[encoded data removed]",
      "text/plain": [
       "<matplotlib.figure.Figure at 0x2277074bf28>"
      ]
     },
     "metadata": {},
     "output_type": "display_data"
    }
   ],
   "source": [
    "m = 100 \n",
    "X = 6 * np.random.rand(m, 1) - 3\n",
    "y = 0.5 * X**2 + X + 2 + np.random.randn(m,1)\n",
    "\n",
    "plt.plot(X, y, 'r.')\n",
    "plt.show()"
   ]
  },
  {
   "cell_type": "markdown",
   "metadata": {},
   "source": [
    "- 단순 직선 모델을 적용하기는 어려움 \n",
    "\n",
    "#### -Scikit-learn의 PolynomialFeatures 클래스 사용 "
   ]
  },
  {
   "cell_type": "code",
   "execution_count": 116,
   "metadata": {},
   "outputs": [
    {
     "name": "stdout",
     "output_type": "stream",
     "text": [
      "[ 1.90673058]\n",
      "[ 1.90673058  3.63562152]\n"
     ]
    }
   ],
   "source": [
    "from sklearn.preprocessing import PolynomialFeatures\n",
    "\n",
    "#새로운 특징을 만들때, 상수항은 포함하지 않음 \n",
    "#새로운 특징 : 기존 특징의 제곱 \n",
    "poly_features = PolynomialFeatures(degree=2, include_bias=False)\n",
    "X_poly = poly_features.fit_transform(X)\n",
    "\n",
    "print(X[0]) #원래값\n",
    "print(X_poly[0]) #원래값, 제곱한값(새로운 특징값)"
   ]
  },
  {
   "cell_type": "code",
   "execution_count": 117,
   "metadata": {},
   "outputs": [
    {
     "data": {
      "text/plain": [
       "(array([ 2.21842821]), array([[ 1.01617367,  0.45401965]]))"
      ]
     },
     "execution_count": 117,
     "metadata": {},
     "output_type": "execute_result"
    }
   ],
   "source": [
    "#새로운 특징으로 선형모델에 적용하기 \n",
    "from sklearn.linear_model import LinearRegression\n",
    "\n",
    "lin_reg = LinearRegression()\n",
    "lin_reg.fit(X_poly, y)\n",
    "\n",
    "#상수항, 파라미터값\n",
    "lin_reg.intercept_, lin_reg.coef_"
   ]
  },
  {
   "cell_type": "markdown",
   "metadata": {},
   "source": [
    "- 생성함수가 0.5 * X**2 + X + 2 + 가우시안 노이즈 \n",
    "- 얻은 수식 0.4 * X**2 + 1.0X + 2.21 \n",
    "- 나쁘지 않은 결과"
   ]
  },
  {
   "cell_type": "code",
   "execution_count": 119,
   "metadata": {},
   "outputs": [
    {
     "data": {
      "image/png": "[encoded data removed]",
      "text/plain": [
       "<matplotlib.figure.Figure at 0x227734782e8>"
      ]
     },
     "metadata": {},
     "output_type": "display_data"
    }
   ],
   "source": [
    "#새로운 데이터로 다중회귀 모델 생성  \n",
    "X_new = np.linspace(-3, 3, 100).reshape(100, 1)\n",
    "X_new_poly = poly_features.transform(X_new)\n",
    "y_new = lin_reg.predict(X_new_poly)\n",
    "\n",
    "plt.plot(X, y, \"r.\")\n",
    "plt.plot(X_new, y_new, \"b-\", label='Predictions')\n",
    "plt.legend()\n",
    "plt.axis ([-3, 3, 0, 10])\n",
    "plt.show()"
   ]
  },
  {
   "cell_type": "markdown",
   "metadata": {},
   "source": [
    "#### - 다중회귀는 주어진 차원의 모든 특징의 조합을 더함 \n",
    "#### - 여러개의 특징이 있을때, 다중회귀는 특징들 간의 관계를 찾을 수 있음  "
   ]
  },
  {
   "cell_type": "markdown",
   "metadata": {},
   "source": [
    "## 2) Learning Curves\n",
    "#### -고차원의 다항회귀 수행 시 , 단순 선형회귀보다 학습데이터가 훨씬 더 잘 맞을 수 있음 \n",
    "<img src = \"image\\ch4\\lc.png\">\n",
    "- 300차원의 모델이 1차, 2차 모델보다 학습데이터에 더 잘 맞음 \n",
    "    - 선형회귀모델(1차) : underfitting\n",
    "    - 300차 다항회귀모델 : overfitting\n",
    "    - 2차 다항회귀모델 : 가장 일반화된 모델 \n",
    "        - 데이터 생성 때, 2차원 모델을 사용했기 때문 \n",
    "- △ 데이터가 어떻게 생성되었는지 항상 알 순 없음 \n",
    "- 일반적인 모델에서 모델이 얼마나 복잡해야하며 overfitting 인지 underfitting인지 파악할 수 있을까\n",
    "\n",
    "### - 모델의 복잡도와 overfitting, undefitting 측정하기 \n",
    "#### - 교차검증(cross-validation) (2장)\n",
    "- overfitting : 학습용셋의 성능은 좋지만 검증용셋의 성능이 좋지 않음\n",
    "- underfitting : 학습용셋, 검증용셋의 성능이 모두 좋지 않음\n",
    "\n",
    "#### - 학습곡선(learning curve) \n",
    "- 학습셋과 검증셋의 성능에 대한 모델의 성능을 그래프로 표현 \n",
    "- 그래프를 그리기 위해선, 학습셋의 서로 다른 크기의 subset을 여러번 훈련시켜야 함"
   ]
  },
  {
   "cell_type": "code",
   "execution_count": 120,
   "metadata": {},
   "outputs": [],
   "source": [
    "#학습곡선을 그리는 함수 \n",
    "from sklearn.metrics import mean_squared_error\n",
    "from sklearn.model_selection import train_test_split\n",
    "\n",
    "#(사용한모델, 학습데이터, 타겟값)을 파라미터로 넘김\n",
    "def plot_learning_curves(model, X, y):\n",
    "    X_train, X_val, y_train, y_val = train_test_split(X, y, test_size=0.2)\n",
    "    train_errors = []\n",
    "    val_errors = []\n",
    "    for m in range(1, len(X_train)):\n",
    "        #다른크기의 subset으로 나누기 \n",
    "        model.fit(X_train[:m], y_train[:m])\n",
    "        y_train_predict = model.predict(X_train[:m])\n",
    "        \n",
    "        y_val_predict = model.predict(X_val)\n",
    "        \n",
    "        #RMSE \n",
    "        train_errors.append(mean_squared_error(y_train_predict, y_train[:m]))\n",
    "        val_errors.append(mean_squared_error(y_val_predict, y_val))\n",
    "        \n",
    "    plt.plot(np.sqrt(train_errors), 'r-+', linewidth=2, label='train')\n",
    "    plt.plot(np.sqrt(val_errors), 'b-', linewidth=3, label='val')\n",
    "    plt.legend(loc='upper right', fontsize=14)\n",
    "    plt.xlabel('Training set size', fontsize=14)\n",
    "    plt.ylabel('RMSE', fontsize=14)"
   ]
  },
  {
   "cell_type": "markdown",
   "metadata": {},
   "source": [
    "### - 선형회귀모델에 대한 학습곡선 "
   ]
  },
  {
   "cell_type": "code",
   "execution_count": 121,
   "metadata": {},
   "outputs": [
    {
     "data": {
      "image/png": "[encoded data removed]",
      "text/plain": [
       "<matplotlib.figure.Figure at 0x22771cba128>"
      ]
     },
     "metadata": {},
     "output_type": "display_data"
    }
   ],
   "source": [
    "#학습곡선 그리기 \n",
    "lin_reg = LinearRegression()\n",
    "plot_learning_curves(lin_reg, X, y)\n",
    "plt.axis([0, 80, 0, 3])\n",
    "plt.show()"
   ]
  },
  {
   "cell_type": "markdown",
   "metadata": {},
   "source": [
    "#### - 학습셋\n",
    "- 데이터가 1~2개일 때, 모델이 완벽하게 맞아서 0에서 시작 \n",
    "- 데이터가 점점 추가되면서 오차 증가 \n",
    "- 고원(plateau)에 도달하면 더이상 오차가 좋아지거나 나빠지지 않음 \n",
    "\n",
    "#### - 검증셋 \n",
    "- 데이터가 적을때는 일반화를 제대로 할 수 없어 오차 값이 높음\n",
    "- 데이터가 점점 추가되면서 오차가 낮아짐 \n",
    "- 마찬가지로 고원에 도달하면 큰 변화가 없음 \n",
    "     - 전형적인 underfitting 모델 \n",
    "     \n",
    "### Underfitting 모델의 특징 \n",
    "#### - 학습셋, 검증셋의 학습곡선이 모두 고원에 도달함 \n",
    "#### - 두 곡선 사이의 거리가 가까움 \n",
    "#### - 오차 값이 꽤 높음 \n",
    "\n",
    "#### - underfitting 해결 \n",
    "- 더 복잡한 모델 사용 \n",
    "- 좋은 특징 추가 "
   ]
  },
  {
   "cell_type": "markdown",
   "metadata": {},
   "source": [
    "### - 10차 다항식 모델의 학습곡선 \n",
    " - 더 복잡한 모델 사용 "
   ]
  },
  {
   "cell_type": "code",
   "execution_count": 124,
   "metadata": {},
   "outputs": [
    {
     "data": {
      "image/png": "[encoded data removed]",
      "text/plain": [
       "<matplotlib.figure.Figure at 0x227731b2a20>"
      ]
     },
     "metadata": {},
     "output_type": "display_data"
    }
   ],
   "source": [
    "from sklearn.pipeline import Pipeline\n",
    "\n",
    "#다항모델 사용 \n",
    "polynomial_regression = Pipeline([\n",
    "    ('poly_features', PolynomialFeatures(degree=10, include_bias=False)),\n",
    "    ('lin_reg', LinearRegression())\n",
    "     ])\n",
    "\n",
    "#학습곡선 그리기 \n",
    "plot_learning_curves(polynomial_regression, X, y)\n",
    "plt.axis([0, 80, 0, 3])\n",
    "plt.show()"
   ]
  },
  {
   "cell_type": "markdown",
   "metadata": {},
   "source": [
    "#### - 선형회귀모델의 학습곡선과의 차이점 \n",
    "- 학습셋의 오차가 선형회귀모델보다 훨씬 낮음 \n",
    "- 곡선 사이 간격이 존재 : 검증셋보다 학습셋이 훨씬 잘 수행됨 (overfitting) \n",
    "    - 하지만 데이터가 추가되면서 곡선의 간격이 점점 줄어듦\n",
    "\n",
    "### Overfitting 모델의 특징 \n",
    "#### - 검증셋, 학습셋 사이의 간격 존재 \n",
    "#### - overfitting 해결\n",
    "- 더 많은 학습 데이터를 추가\n",
    "- 모델 정규화"
   ]
  },
  {
   "cell_type": "markdown",
   "metadata": {},
   "source": [
    "# ※ The Bias/Variance Tradeoff\n",
    "#### 모델의 일반화 오류를 세가지 방법으로 표현 가능 \n",
    "## - 편향 (Bias)\n",
    "#### - 잘못된 예측으로 인한 일반화 오류 \n",
    "#### - 편향이 클 수록 underfitting 가능성 높음 \n",
    "\n",
    "## - 변동 (Variance)\n",
    "#### - 학습데이터의 작은 변동에 대해 모델이 지나치게 미감하게 반응함으로 인한 일반화 오류 \n",
    "#### - 고차원의 모델일수록 변동성이 높음 \n",
    "#### - 변동성이 높을수록 overfitting 가능성 높음\n",
    "\n",
    "## - 더이상 줄일 수 없는 오차 (Irreducible Error)\n",
    "#### - 데이터 자체의 노이즈로 인한 오차 \n",
    "#### - 데이터 손질(이상치 제거 등)로 해결 \n",
    "\n",
    "\n",
    "\n",
    "## * Tradeoff 관계\n",
    "#### - 모델의 복잡도가 높을수록 변동은 크고 편향은 낮음 \n",
    "#### -모델의 복잡도가 낮을수록 변동은 작고 편향은 큼"
   ]
  },
  {
   "cell_type": "markdown",
   "metadata": {},
   "source": [
    "## 3) Regularized Linear Model\n",
    "### overfitting을 해결하기 위해 모델 정규화 \n",
    "#### - 자유도가 작을 수록 overfitting 가능성이 낮아짐 \n",
    "- 다항모델에서는 다항식 차수를 줄이는 방법을 사용 \n",
    "- 선형모델에서는 대게 모델의 가중치를 제한하는 방법 사용 \n",
    "    - Ridge Regression\n",
    "    - Lasso Regression\n",
    "    - Elastic Net"
   ]
  },
  {
   "cell_type": "markdown",
   "metadata": {},
   "source": [
    "### 1> Ridge Regrssion \n",
    "#### - Tikhonov Regulation\n",
    "#### - 비용함수에 정규화항을 더함 (학습 동안만 적용)\n",
    "- 학습알고리즘이 데이터에 적합할 뿐 아니라 모델 가중치를 가능한 작게 유지함 \n",
    "<img src = 'image\\ch4\\rr.png'>\n",
    "- α : 하이퍼파라미터, 모델을 얼마나 정규화할지 제어 (α = 0이면, 단순선형회귀와 같음)\n",
    "- α가 커질수록 모든 가중치는 0에 가까워짐 (결과는 데이터의 평균을 지나는 평평한 직선이 됨)\n",
    "- 상수항(Θ0)은 정규화되지 않음 \n",
    "\n",
    "#### - 특징 가중치 벡터(Θ1~)을 w로 정의 \n",
    "- 가중치 벡터의 l2 norm을 의미하게됨 \n",
    "- 경사하강법 사용시, MSE 기울기 벡터에 αw만 더하면 됨 \n",
    "\n",
    "#### ※ Ridge 회귀 분석은 특징의 척도(scale)에 민감 \n",
    "- StandardScaler등을 통해 특징 스케일링 필요 \n",
    "- 거의 대부분의 정규화 모델도 마찬가지 \n",
    "\n",
    "### - Ridge회귀분석 \n",
    "<img src = 'image\\ch4\\rr2.png'>\n",
    "- 왼쪽 \n",
    "    - 일반 ridge 모델이 적용되어 선형 예측 \n",
    "- 오른족 : ridge 모델을 적용한 다항 회귀 \n",
    "    - 데이터를 먼저 다항 모델로 확장(PolynomialFeature 사용) \n",
    "    - 특징 스켕일링 (StandardScaler 사용)\n",
    "    - 후 ridge 모델 적용 \n",
    "- α(하이퍼파라미터)가 증가하면 (정규화가 많이 진행되면) 예측이 평평해짐 \n",
    "    - 예측이 덜 극단적이고 합리적임 (모델의 변동은 낮지만 편향이 높음)\n",
    "    \n",
    "### - Ridge 회귀분석 수행 방법 \n",
    "#### - 폐쇄방정식 사용 (closed-form equation) \n",
    "<img src = 'image\\ch4\\rr3.png'>\n",
    "- Sickit-learn의 Ridge 클래스 사용 "
   ]
  },
  {
   "cell_type": "code",
   "execution_count": 125,
   "metadata": {},
   "outputs": [
    {
     "data": {
      "text/plain": [
       "array([[ 4.68661525]])"
      ]
     },
     "execution_count": 125,
     "metadata": {},
     "output_type": "execute_result"
    }
   ],
   "source": [
    "from sklearn.linear_model import Ridge\n",
    "\n",
    "ridge_reg = Ridge(alpha=1, solver='cholesky')\n",
    "#alpha값 지정 \n",
    "#solver : ridge regression을 어떻게 수행할것인지 \n",
    "#cholesky : 폐쇄방정식 사용 \n",
    "\n",
    "ridge_reg.fit(X, y)\n",
    "ridge_reg.predict([[1.5]])"
   ]
  },
  {
   "cell_type": "markdown",
   "metadata": {},
   "source": [
    "#### - 경사하강법 사용 \n",
    "- Scikit-learn의 Stochastic Gradient Descent 사용 "
   ]
  },
  {
   "cell_type": "code",
   "execution_count": 127,
   "metadata": {},
   "outputs": [
    {
     "name": "stderr",
     "output_type": "stream",
     "text": [
      "C:\\Users\\jsh\\Anaconda3\\lib\\site-packages\\sklearn\\linear_model\\stochastic_gradient.py:128: FutureWarning: max_iter and tol parameters have been added in <class 'sklearn.linear_model.stochastic_gradient.SGDRegressor'> in 0.19. If both are left unset, they default to max_iter=5 and tol=None. If tol is not None, max_iter defaults to max_iter=1000. From 0.21, default max_iter will be 1000, and default tol will be 1e-3.\n",
      "  \"and default tol will be 1e-3.\" % type(self), FutureWarning)\n"
     ]
    },
    {
     "data": {
      "text/plain": [
       "array([ 3.69445785])"
      ]
     },
     "execution_count": 127,
     "metadata": {},
     "output_type": "execute_result"
    }
   ],
   "source": [
    "sgd_reg = SGDRegre.ssor(penalty=\"l2\")\n",
    "#penalty : 어떤 방법으로 정규화할것인가 \n",
    "\n",
    "sgd_reg.fit(X, y.ravel())\n",
    "sgd_reg.predict([[1.5]])"
   ]
  },
  {
   "cell_type": "markdown",
   "metadata": {},
   "source": [
    "### 2> Lasso Regression \n",
    "#### - 비용함수에 정규화항을 더하는 방식 \n",
    "#### - l1 규제방법 사용 \n",
    "<img src = 'image\\ch4\\lassor.png'>\n",
    "### - Lasso 회귀분석\n",
    "<img src = 'image\\ch4\\lassor2.png'>\n",
    "- 왼쪽\n",
    "    - 일반 lasso 모델이 적용되어 선형예측 \n",
    "- 오른쪽 : lasso 모델을 적용한 다항 회귀\n",
    "    - 데이터를 먼저 다항 모델로 확장(PolynomialFeature 사용) \n",
    "    - 특징 스켕일링 (StandardScaler 사용)\n",
    "    - 후 lasso 모델 적용 \n",
    "- 중요하지 않은 특징의 가중치를 완전히 없앰(0으로 설정)\n",
    "    - 오른쪽 그림의 초록색 점선 \n",
    "        - 거의 선형인 이차방정식으로 보임 \n",
    "        - 모든 고차 다항식의 가중치가 0일 것을 알 수 있음 \n",
    "        - 즉, lasso 회귀는 자동으로 특징선택을 수행하고 결과로 sparse 모델을 출력함\n",
    "\n",
    "### - Lasso vs Ridge\n",
    "<img src = 'image\\ch4\\lvr.png'>\n",
    "- 배경의 타원 : 정규화되지 않은 MSE 비용함수 (α=0)\n",
    "    - 어두울수록 깊음 \n",
    "- 흰색 원 : 비용함수에서 Batch Gradient Descent의 경로 \n",
    "- 노란색 삼각형 : 그 패널티에 대해서만 BGD 경로 (α는 무한대에 수렴)\n",
    "- 빨간점 : 최종 Θ값\n",
    "- 왼쪽 위 \n",
    "    - 다이아몬드 등고선 : l1 패널티(정규화)를 적용한 비용함수 \n",
    "    - 비용함수를 최소화하는 Θ값은 0\n",
    "    - 패널티에 대한 BGD는 처음 Θ1=0에 도달한 후 Θ2=0에 접근 \n",
    "- Lasso\n",
    "    - α=0.5인 l1 패널티를 포함함\n",
    "    - 전역최소값은 Θ2=0축에 존재 \n",
    "    - BGD는 먼저 Θ2=0에 도달하고 전역최소갓에 도달할 때까지 수행 \n",
    "- 왼쪽 아래 \n",
    "    - 타원 등고선 : l2 패널티를 적용한 비용함수 \n",
    "    - 비용함수를 최소화하는 Θ값은 0\n",
    "    - 패널티에 대한 BGD는 바로 Θ=0에 도달 \n",
    "- Ridge\n",
    "    - α=0.5인 l2 패널티를 포함함\n",
    "    - 정규화된 최소값이 정규화되지 않은 최소값보다 Θ=0에 가까움 \n",
    "    - 하지만 가중치는 충분히 제거되지 않음 \n",
    "\n",
    "\n",
    "#### ※Tip\n",
    "- Lasso 비용함수에서 BGD경로는 바닥에서 튕겨오르는 경향이 있음 \n",
    "    - Θ2=0에서 갑자기 경사가 변했기 때문\n",
    "- 그러므로 전역최소값에 잘 도달하기 위해서는 학습 속도를 점차 줄이는 것이 좋음 \n",
    "\n",
    "#### - Lasso 비용함수는 Θi=0 일때, 큰 차이를 보이지 않지만 subgradient 벡터 g를 사용하면 경사하강법이 계속 진행됨 \n",
    "- Lasso 비용함수로 경사하강법을 수행할 때, 사용할 수 있는 subgradient 벡터 \n",
    "<img src = 'image\\ch4\\lrsv.png'>"
   ]
  },
  {
   "cell_type": "markdown",
   "metadata": {},
   "source": [
    "#### - Scikit-learn의 Lasso 클래스 사용 \n",
    "- 대신 SGDRegressor(penalty='l1') 사용 가능"
   ]
  },
  {
   "cell_type": "code",
   "execution_count": 128,
   "metadata": {},
   "outputs": [
    {
     "data": {
      "text/plain": [
       "array([ 4.62826826])"
      ]
     },
     "execution_count": 128,
     "metadata": {},
     "output_type": "execute_result"
    }
   ],
   "source": [
    "from sklearn.linear_model import Lasso \n",
    "\n",
    "lasso_reg = Lasso(alpha=0.1)\n",
    "lasso_reg.fit(X, y)\n",
    "lasso_reg.predict([[1.5]])"
   ]
  },
  {
   "attachments": {},
   "cell_type": "markdown",
   "metadata": {},
   "source": [
    "### 3> Elastic Net\n",
    "#### - Ridge와 Lasso 의 중간 \n",
    "#### - ridge와 lasso의 정규화항을 섞어서 정규화항 생성 (r로 혼합비율 조정)\n",
    "<img src = 'image\\ch4\\en.png'>\n",
    "- r=0, ridge regression과 동일 \n",
    "- r=1, lasso regression과 동일 \n",
    "\n",
    "#### - Sickit-learn의 ElasticNet클래스 사용 "
   ]
  },
  {
   "cell_type": "code",
   "execution_count": 129,
   "metadata": {},
   "outputs": [
    {
     "data": {
      "text/plain": [
       "array([ 4.63363191])"
      ]
     },
     "execution_count": 129,
     "metadata": {},
     "output_type": "execute_result"
    }
   ],
   "source": [
    "from sklearn.linear_model import ElasticNet\n",
    "\n",
    "elastic_net = ElasticNet(alpha=0.1, l1_ratio=0.5)\n",
    "#l1_ratio : 혼합비율(r)\n",
    "elastic_net.fit(X, y)\n",
    "elastic_net.predict([[1.5]])"
   ]
  },
  {
   "cell_type": "markdown",
   "metadata": {},
   "source": [
    "### - 언제 어떤것을 사용? (선형, Ridge, Lasso, Elastic Net)\n",
    "#### - 일반적으로 선형회귀는 피해야함 \n",
    "#### - Ridge가 흔하게 사용\n",
    "#### - 많은 특징 중 몇가지 특징만 중요하다고 생각되면 Lasso, Elastic Net 사용 \n",
    "- 필요없는 특징의 가중치를 0으로 둠 \n",
    "\n",
    "#### - 분석하기 쉬운 모델을 원하면 Lasso 사용 \n",
    "- 입력 특징 중 일부만 사용함으로 쉽게 해석 가능 \n",
    "\n",
    "#### - 일반적으로 Lasso보다는 Elastic Net을 더 선호함 \n",
    "- 여러 특징들이 강하게 상호연관을 가질때, \n",
    "- 학습 데이터의 개수가 특징의 개수보다 많을 때, \n",
    "- Lasso는 불규칙하게 동작할 가능성이 있음 "
   ]
  },
  {
   "cell_type": "markdown",
   "metadata": {},
   "source": [
    "### 4> Early Stopping\n",
    "#### - 반복학습알고리즘을 정규화하는 다양한 방법들은 유효성 에러가 최소에 도달하면 학습을 멈춰야 하는 것 \n",
    "\n",
    "#### - 복잡한 모델이 BGD를 이용하여 학습되는 과정\n",
    "<img src = 'image\\ch4\\es.png'>\n",
    "- 주기가 진행되면서 학습셋과 검증셋의 RMSE가 점차 낮아짐 \n",
    "- 검증셋으 RMSE가 다시 증가하는 지점 존재 (overfit이 시작됨을 알림)\n",
    "- Early Stopping을 통해 유효성에러가 최소에 도달하는 즉시 학습을 멈춰야 함 \n",
    "\n",
    "#### - SGD, MGD를 사용할 경우 곡선이 평탄하지 않음 \n",
    "- 어떤 지점이 최소값인지 파악하기 어려움 \n",
    "     - 유효성 검사가 최소 시간 이상 경과한 경우 학습을 멈춤 \n",
    "     - 멈추고 유효성 에러가 최소가 되는 파라미터 지점로 돌아감 "
   ]
  },
  {
   "attachments": {},
   "cell_type": "markdown",
   "metadata": {},
   "source": [
    "# 3. Logistic Regression \n",
    "#### 일부 회귀 알고리즘을 분류에 사용할 수 있음 \n",
    "#### : 일반적으로 데이터가 특정 클래스에 속할 확률 추정에 사용 \n",
    "<img src = 'image\\ch4\\ep.png'>\n",
    "#### - 예) 추정확률이 50%보다 높으면 1(양수 클래스), 낮으면 0(음수클래스)에 속한다 예측 \n",
    "\n",
    "## 1)  Estimating Probabilities\n",
    "#### - 입력특징 (상수항 포함)의 가중치의 합을 계산 \n",
    "#### - logistic으로 결과 출력 \n",
    "- logistic : 0과 1사이의 수가 출력되는 sigmoid 함수 \n",
    "<img src = 'image\\ch4\\sigmoid.png'>\n",
    "- 0.5를 기준으로 0, 1\n",
    "\n",
    "<img src = 'image\\ch4\\sigmoid2.png'>\n",
    "- 어떤 클래스에 속할 확률을 먼저 구하면 예측값을 구하기 더 수월해짐 \n",
    "\n",
    "\n",
    "## 2) Training and Cost Function\n",
    "#### 어떻게 학습되는가 \n",
    "<img src = 'image\\ch4\\lg.png'>\n",
    "<img src = 'image\\ch4\\lg2.png'>\n",
    "#### - 이 비용함수를 최소화하는 Θ값을 계산하는 폐쇄방정식이 존재하지 않음 \n",
    "#### - 경사하강법 사용 \n",
    "- 비용함수가 볼록함수라 전역최소값에 도달함을 보장함 \n",
    "<img src = 'image\\ch4\\lg3.png'>\n",
    "\n",
    "\n",
    "## 3) Decision Boundaries \n",
    "#### 아이리스 데이터 사용 \n",
    "- 3종류의 아이리스에 대해 꽃받침의 길이, 너비와 꽃잎길이, 너비를 포함한 총 150개의 데이터 \n",
    "<img src = 'image\\ch4\\iris.png'>\n",
    "- 라벨값\n",
    "    - Setosa : 0\n",
    "    - Versicolor : 1\n",
    "    - Virginica : 2 "
   ]
  },
  {
   "cell_type": "code",
   "execution_count": 136,
   "metadata": {},
   "outputs": [
    {
     "data": {
      "text/plain": [
       "['data', 'target', 'target_names', 'DESCR', 'feature_names']"
      ]
     },
     "execution_count": 136,
     "metadata": {},
     "output_type": "execute_result"
    }
   ],
   "source": [
    "from sklearn import datasets\n",
    "\n",
    "iris = datasets.load_iris()\n",
    "list(iris.keys())"
   ]
  },
  {
   "cell_type": "code",
   "execution_count": 137,
   "metadata": {},
   "outputs": [
    {
     "data": {
      "text/plain": [
       "array(['setosa', 'versicolor', 'virginica'],\n",
       "      dtype='<U10')"
      ]
     },
     "execution_count": 137,
     "metadata": {},
     "output_type": "execute_result"
    }
   ],
   "source": [
    "iris['target_names']"
   ]
  },
  {
   "cell_type": "code",
   "execution_count": 138,
   "metadata": {},
   "outputs": [
    {
     "data": {
      "text/plain": [
       "array([0, 0, 0, 0, 0, 0, 0, 0, 0, 0, 0, 0, 0, 0, 0, 0, 0, 0, 0, 0, 0, 0, 0,\n",
       "       0, 0, 0, 0, 0, 0, 0, 0, 0, 0, 0, 0, 0, 0, 0, 0, 0, 0, 0, 0, 0, 0, 0,\n",
       "       0, 0, 0, 0, 1, 1, 1, 1, 1, 1, 1, 1, 1, 1, 1, 1, 1, 1, 1, 1, 1, 1, 1,\n",
       "       1, 1, 1, 1, 1, 1, 1, 1, 1, 1, 1, 1, 1, 1, 1, 1, 1, 1, 1, 1, 1, 1, 1,\n",
       "       1, 1, 1, 1, 1, 1, 1, 1, 2, 2, 2, 2, 2, 2, 2, 2, 2, 2, 2, 2, 2, 2, 2,\n",
       "       2, 2, 2, 2, 2, 2, 2, 2, 2, 2, 2, 2, 2, 2, 2, 2, 2, 2, 2, 2, 2, 2, 2,\n",
       "       2, 2, 2, 2, 2, 2, 2, 2, 2, 2, 2, 2])"
      ]
     },
     "execution_count": 138,
     "metadata": {},
     "output_type": "execute_result"
    }
   ],
   "source": [
    "iris['target'] #라벨값"
   ]
  },
  {
   "cell_type": "markdown",
   "metadata": {},
   "source": [
    "#### - 꽃잎의 너비를 기반으로 Virginica 분류하는 분류기 만들기"
   ]
  },
  {
   "cell_type": "code",
   "execution_count": 140,
   "metadata": {},
   "outputs": [],
   "source": [
    "X = iris[\"data\"][:, 3:]  # 꽃잎의 너비 \n",
    "y = (iris[\"target\"] == 2).astype(np.int)  # 만약 Virginica이면 1, 아니면 0"
   ]
  },
  {
   "cell_type": "code",
   "execution_count": 141,
   "metadata": {},
   "outputs": [
    {
     "data": {
      "text/plain": [
       "LogisticRegression(C=1.0, class_weight=None, dual=False, fit_intercept=True,\n",
       "          intercept_scaling=1, max_iter=100, multi_class='ovr', n_jobs=1,\n",
       "          penalty='l2', random_state=42, solver='liblinear', tol=0.0001,\n",
       "          verbose=0, warm_start=False)"
      ]
     },
     "execution_count": 141,
     "metadata": {},
     "output_type": "execute_result"
    }
   ],
   "source": [
    "#회귀분석\n",
    "from sklearn.linear_model import LogisticRegression\n",
    "\n",
    "log_reg = LogisticRegression(random_state=42)\n",
    "log_reg.fit(X, y)"
   ]
  },
  {
   "cell_type": "code",
   "execution_count": 143,
   "metadata": {},
   "outputs": [
    {
     "data": {
      "image/png": "[encoded data removed]",
      "text/plain": [
       "<matplotlib.figure.Figure at 0x227737fd048>"
      ]
     },
     "metadata": {},
     "output_type": "display_data"
    }
   ],
   "source": [
    "#꽃의 너비가 0~3cm 까지 변하는 꽃(새로운 데이터)에 대한 모델의 예상확률 \n",
    "\n",
    "X_new = np.linspace(0, 3, 1000).reshape(-1, 1)\n",
    "y_proba = log_reg.predict_proba(X_new)\n",
    "\n",
    "#초록색 : Virginica일 확률\n",
    "#파란색 : Virginica가 아닐 확률 \n",
    "plt.plot(X_new, y_proba[:, 1], \"g-\", linewidth=2, label=\"Iris-Virginica\")\n",
    "plt.plot(X_new, y_proba[:, 0], \"b--\", linewidth=2, label=\"Not Iris-Virginica\")\n",
    "\n",
    "plt.show()"
   ]
  },
  {
   "attachments": {},
   "cell_type": "markdown",
   "metadata": {},
   "source": [
    "<img src = 'image\\ch4\\iris2.png'>\n",
    "- Virginica의 너비(초록색 사각형)는 다른 꽃들보다 너비가 크다 \n",
    "- 그래프 상에서 2cm 이상은 virginica라 확신\n",
    "- 1cm 이하는 virginica가 아니라 판단 \n",
    "- 하지만, 확실한 분류기준은 아님 "
   ]
  },
  {
   "cell_type": "code",
   "execution_count": 145,
   "metadata": {},
   "outputs": [
    {
     "data": {
      "text/plain": [
       "array([1, 0])"
      ]
     },
     "execution_count": 145,
     "metadata": {},
     "output_type": "execute_result"
    }
   ],
   "source": [
    "#predict()를 사용해 클래스 예측 \n",
    "#가장 확률이 높은 클래스가 반환됨\n",
    "\n",
    "#새로운 데이터 (1.5), (1.7)\n",
    "#기준값은 약 1.6\n",
    "log_reg.predict([[1.7], [1.5]])"
   ]
  },
  {
   "cell_type": "markdown",
   "metadata": {},
   "source": [
    "### - 두개의 특징 (너비, 길이)에 대한 분류기 \n",
    "- 로지스틱 회귀 분류기는 새로운 꽃의 두가지 특징을 기반으로 virginica가 맞는지 아닌지 확률 추정 \n",
    "<img src = 'image\\ch4\\iris3.png'>\n",
    "- 검은 점선은 모델의 50%를 추정하는 지점 \n",
    "    - decision boudary\n",
    "        - 선형 경계\n",
    "    - 각각의 평행성은 15%에서 90%에 이르기까지의 확률을 추정하는 선 \n",
    "- 모델에 따르면 오른쪽 상단의 모든 꽃은 virginica임\n",
    "\n",
    "\n",
    "### - 로지스틱 회귀모델도 l1, l2 패널티 이용 \n",
    "- Scikit-learn에서는 기본값으로 l2 사용 \n",
    "\n",
    "### ※ Scikit-learn의 LogisticRegression\n",
    "- 다른 선형모델에서는 α를 모델의 정규화 강도를 조정하는 하이퍼파라미터로 사용 \n",
    "- sklearn의 로지스틱회귀에서는 α의 역수인 C를 사용 \n",
    "- C값이 높을수록 덜 정규화된 모델임을 의미 "
   ]
  },
  {
   "cell_type": "markdown",
   "metadata": {},
   "source": [
    "## 4) Softmax Regression \n",
    "#### 다항분류 \n",
    "#### - 로지스틱 회귀모델로 여러 이진분류기의 학습, 결합 없이 직접 multiple class를 구하는 방법\n",
    "### 확률 추정 및 예측 방법\n",
    "#### - 과정 \n",
    "- 데이터 x가 주어짐 \n",
    "- 각 클래스 k에 대해 점수를 계산 \n",
    "    - 점수를 계산하는 방정식 \n",
    "    <img src = 'image\\ch4\\softmax.png'>\n",
    "\n",
    "        - 각 클래스는 고유한 파라미터 벡터 Θ(k)를 가짐\n",
    "        - 모든 벡터는 일반적으로 파라미터 행렬 Θ의 행으로 저장됨 \n",
    "        \n",
    "- softmax 함수를 사용해 각 클래스의 확률 계산 \n",
    "    - softmax 함수로 확률 계산하는 방정식\n",
    "    <img src = 'image\\ch4\\softmax2.png'>\n",
    "        - k : 클래스의 수 \n",
    "        - s(x) : 데이터 x에 대해 각 클래스의 점수를 포함하는 벡터 \n",
    "        \n",
    "- 로지스틱 회귀와 같이 가장 높은 점수를 갖는 클래스를 예측값으로 봄 \n",
    "    <img src = 'image\\ch4\\softmax3.png'>\n",
    "    \n",
    "#### - Softmax 회귀는 한번에 한 클래스만을 예측함 \n",
    "- 한 사진에서 여러 사람을 인식할 때는 사용할 수 없음 \n",
    "\n",
    "\n",
    "### 학습 방법 \n",
    "#### - 목표는 타겟 클래스에 대한 높은 확률을 추정하는 모델 만들기 \n",
    "#### - 비용함수로 cross-entropy 사용 \n",
    "- cross-etropy\n",
    "    - 정보이론에 기초 \n",
    "    - 예상 클래스 확률 집합이 타겟 클래스와 얼마나 잘 일치하는가를 측정할 때 사용 \n",
    "    - 두 값의 차이가 클 수록 큰 값을 반환 \n",
    "    - 두 값이 같으면 최소값 반환 \n",
    "    <img src = 'image\\ch4\\ce.png'>\n",
    "        - y(i)에서 i번째 데이터의 클래스가 k이면 1이고, 아니면 0 \n",
    "        - 만약 클래스가 2개라면, 로지스틱 회귀의 비용함수와 같음 \n",
    "        \n",
    "#### - 과정\n",
    "- 모든 클래스에 대한 기울기 벡터 계산 \n",
    "- 경사하강법(등)을 사용하여 비용함수를 최소화하는 파라미터 행렬 Θ찾기 \n",
    "<img src = 'image\\ch4\\ce2.png'>\n",
    "\n",
    "\n",
    "### 적용 \n",
    "#### - iris 데이터를 3종류로 나누기 위해 softmax 사용 \n",
    "#### - Scikit-learn의 LogisticRegression 클래스 사용 \n",
    "- 하이퍼파라미터 multi-class를 'multinomial'로 설정 \n",
    "- softmax 회귀를 지원하는 특징 solver 선택 필요 \n",
    "- 기본값으로 l2 정규화가 수행됨 (하이퍼파라미터 C로 설정 가능)"
   ]
  },
  {
   "cell_type": "code",
   "execution_count": 146,
   "metadata": {},
   "outputs": [
    {
     "data": {
      "text/plain": [
       "LogisticRegression(C=10, class_weight=None, dual=False, fit_intercept=True,\n",
       "          intercept_scaling=1, max_iter=100, multi_class='multinomial',\n",
       "          n_jobs=1, penalty='l2', random_state=None, solver='lbfgs',\n",
       "          tol=0.0001, verbose=0, warm_start=False)"
      ]
     },
     "execution_count": 146,
     "metadata": {},
     "output_type": "execute_result"
    }
   ],
   "source": [
    "X = iris['data'][:, (2, 3)]  #꽃잎의 길이, 너비\n",
    "y = iris['target']\n",
    "\n",
    "#softmax회귀 적용 \n",
    "softmax_reg = LogisticRegression(multi_class = 'multinomial', solver = 'lbfgs', C=10)\n",
    "softmax_reg.fit(X, y)"
   ]
  },
  {
   "cell_type": "code",
   "execution_count": 147,
   "metadata": {},
   "outputs": [
    {
     "data": {
      "text/plain": [
       "array([2])"
      ]
     },
     "execution_count": 147,
     "metadata": {},
     "output_type": "execute_result"
    }
   ],
   "source": [
    "softmax_reg.predict([[5, 2]])"
   ]
  },
  {
   "cell_type": "markdown",
   "metadata": {},
   "source": [
    "- 두번째 클래스인 virginica로 예측 "
   ]
  },
  {
   "cell_type": "code",
   "execution_count": 148,
   "metadata": {},
   "outputs": [
    {
     "data": {
      "text/plain": [
       "array([[  6.33134077e-07,   5.75276067e-02,   9.42471760e-01]])"
      ]
     },
     "execution_count": 148,
     "metadata": {},
     "output_type": "execute_result"
    }
   ],
   "source": [
    "softmax_reg.predict_proba([[5, 2]])"
   ]
  },
  {
   "cell_type": "markdown",
   "metadata": {},
   "source": [
    "- 2번째 클래스의 확률값이 가장 높음 "
   ]
  },
  {
   "cell_type": "markdown",
   "metadata": {},
   "source": [
    "#### - 배경색으로 구분되는 결정 범위 \n",
    "<img src = 'image\\ch4\\softmax4.png'>\n",
    "- 모든 두 클래스에 대한 결정 경계는 선형적 \n",
    "- 곡선으로 Iris-Versicolor 클래스에 대한 확률 표현 (0.45:45%확률의 결정경계)\n",
    "- 모델은 50% 이하의 측정확률도 예측할 수 있음 \n",
    "    - 모든 결정경계가 만나는 지점은 각 클래스 모두 33%의 동일한 확률이 측정됨"
   ]
  }
 ],
 "metadata": {
  "kernelspec": {
   "display_name": "Python 3",
   "language": "python",
   "name": "python3"
  },
  "language_info": {
   "codemirror_mode": {
    "name": "ipython",
    "version": 3
   },
   "file_extension": ".py",
   "mimetype": "text/x-python",
   "name": "python",
   "nbconvert_exporter": "python",
   "pygments_lexer": "ipython3",
   "version": "3.6.1"
  }
 },
 "nbformat": 4,
 "nbformat_minor": 2
}
